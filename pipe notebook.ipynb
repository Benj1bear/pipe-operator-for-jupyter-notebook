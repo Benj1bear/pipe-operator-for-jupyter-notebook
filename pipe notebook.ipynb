{
 "cells": [
  {
   "cell_type": "code",
   "execution_count": null,
   "id": "f9609a3a",
   "metadata": {},
   "outputs": [],
   "source": [
    "from my_pack import interpret,import_js,pipe\n",
    "import_js(\"pipe\")"
   ]
  },
  {
   "cell_type": "code",
   "execution_count": null,
   "id": "46c3030e",
   "metadata": {},
   "outputs": [],
   "source": [
     "import pandas as pd\n",
     "[1,2,3] |> pd.Series"
   ]
  },
  {
   "cell_type": "code",
   "execution_count": null,
   "id": "ce5c7146",
   "metadata": {},
   "outputs": [],
   "source": [
      "[1,2,3] |> sum"
   ]
  },
{
   "cell_type": "code",
   "execution_count": null,
   "id": "46c3030e",
   "metadata": {},
   "outputs": [],
   "source": [
     "import time\n",
     "n=0\n",
     "while True:\n",
     "    time.sleep(1)\n",
     "    n |> print\n",
   ]
  }
 ],
 "metadata": {
  "kernelspec": {
   "display_name": "Python 3 (ipykernel)",
   "language": "python",
   "name": "python3"
  },
  "language_info": {
   "codemirror_mode": {
    "name": "ipython",
    "version": 3
   },
   "file_extension": ".py",
   "mimetype": "text/x-python",
   "name": "python",
   "nbconvert_exporter": "python",
   "pygments_lexer": "ipython3",
   "version": "3.11.5"
  }
 },
 "nbformat": 4,
 "nbformat_minor": 5
}
